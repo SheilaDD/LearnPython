{
 "cells": [
  {
   "cell_type": "code",
   "execution_count": null,
   "id": "a21cd414-626d-4a64-a01e-431783de38b8",
   "metadata": {},
   "outputs": [],
   "source": [
    "responses = {\n",
    "    \"hi\": \"Hi, welcome to my portfolio. What would you like to know?\",\n",
    "    \n",
    "    \"tell me about yourself\": \"My name is Divhani Sheila Dzhivhuho, but you can call me Sheila.\",\n",
    "    \n",
    "    \"tell me more about your education\": (\n",
    "        \"I have an International Diploma in Computer Studies and I've been doing short courses like \"\n",
    "        \"Banking Services NQF L5, Learning Python, Learning Data Science, Learning AI and ML, \"\n",
    "        \"and not forgetting HTML, CSS, and JS.\"\n",
    "    ),\n",
    "    \n",
    "    \"where are you working\": \"I'm currently working as a Homeloan Debit Collector at Absa Bank.\",\n",
    "    \n",
    "    \"do you enjoy your current job\": \"No, I don't.\",\n",
    "    \n",
    "    \"when can you start working for us\": \"Now! Well, I need to put in a 30-day notice first.\",\n",
    "}\n",
    "\n",
    "def get_bot_responses(user_input):\n",
    "    user_input = user_input.lower()\n",
    "    for keyword, reply in responses.items():\n",
    "        if keyword in user_input:\n",
    "            return reply\n",
    "    return \"I'm not sure how to respond to that. Can you try something else related to my portfolio or resume?\"\n",
    "\n",
    "# Chat loop\n",
    "while True:\n",
    "    user_input = input(\"You: \")\n",
    "    if user_input.lower() in [\"quit\", \"bye\", \"exit\"]:\n",
    "        print(\"Bot: Goodbye! If you have more questions, don't hesitate to contact me.\")\n",
    "        break\n",
    "    reply = get_bot_responses(user_input)\n",
    "    print(f\"Bot: {reply}\")\n",
    "    \n",
    "\n"
   ]
  },
  {
   "cell_type": "code",
   "execution_count": null,
   "id": "dda84d6f-8060-4cf9-8484-627e948f5cf4",
   "metadata": {},
   "outputs": [],
   "source": []
  },
  {
   "cell_type": "code",
   "execution_count": null,
   "id": "d2274e50-99c2-4b6e-8903-124d46a670cf",
   "metadata": {},
   "outputs": [],
   "source": []
  }
 ],
 "metadata": {
  "kernelspec": {
   "display_name": "Python [conda env:base] *",
   "language": "python",
   "name": "conda-base-py"
  },
  "language_info": {
   "codemirror_mode": {
    "name": "ipython",
    "version": 3
   },
   "file_extension": ".py",
   "mimetype": "text/x-python",
   "name": "python",
   "nbconvert_exporter": "python",
   "pygments_lexer": "ipython3",
   "version": "3.12.7"
  }
 },
 "nbformat": 4,
 "nbformat_minor": 5
}
